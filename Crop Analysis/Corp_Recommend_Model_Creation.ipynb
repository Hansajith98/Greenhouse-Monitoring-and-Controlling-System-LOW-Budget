{
  "nbformat": 4,
  "nbformat_minor": 0,
  "metadata": {
    "colab": {
      "name": "Corp Recommend Model Creation.ipynb",
      "provenance": [],
      "collapsed_sections": []
    },
    "kernelspec": {
      "name": "python3",
      "display_name": "Python 3"
    },
    "language_info": {
      "name": "python"
    }
  },
  "cells": [
    {
      "cell_type": "code",
      "execution_count": 4,
      "metadata": {
        "colab": {
          "base_uri": "https://localhost:8080/"
        },
        "id": "F7XA-8hdULcY",
        "outputId": "92add67b-7045-4a3c-fbd9-8302b38057f0"
      },
      "outputs": [
        {
          "output_type": "stream",
          "name": "stdout",
          "text": [
            "Mounted at /content/drive\n"
          ]
        }
      ],
      "source": [
        "from google.colab import drive\n",
        "drive.mount('/content/drive')"
      ]
    },
    {
      "cell_type": "code",
      "source": [
        "import pandas as pd\n",
        "import seaborn as sns"
      ],
      "metadata": {
        "id": "-J2jqsh-XU61"
      },
      "execution_count": 5,
      "outputs": []
    },
    {
      "cell_type": "code",
      "source": [
        "path = '/content/drive/MyDrive/CSV file for Corp Recommendation Model Creation/crop recommondation train data.csv'\n",
        "df = pd.read_csv(path)"
      ],
      "metadata": {
        "id": "71ZM2KFTUmgh"
      },
      "execution_count": 6,
      "outputs": []
    },
    {
      "cell_type": "code",
      "source": [
        "# df.drop(df.columns[0], axis=1, inplace=True)\n",
        "df.shape"
      ],
      "metadata": {
        "colab": {
          "base_uri": "https://localhost:8080/"
        },
        "id": "D95m2GafXdZk",
        "outputId": "f0f87696-9b2e-43ff-961a-f6b8701f9cc3"
      },
      "execution_count": 7,
      "outputs": [
        {
          "output_type": "execute_result",
          "data": {
            "text/plain": [
              "(1980, 8)"
            ]
          },
          "metadata": {},
          "execution_count": 7
        }
      ]
    },
    {
      "cell_type": "code",
      "source": [
        "df.columns"
      ],
      "metadata": {
        "colab": {
          "base_uri": "https://localhost:8080/"
        },
        "id": "a0yHpXelYQvT",
        "outputId": "b8cc13c6-add8-409b-8167-ed4425a03188"
      },
      "execution_count": 8,
      "outputs": [
        {
          "output_type": "execute_result",
          "data": {
            "text/plain": [
              "Index(['N', 'P', 'K', 'temperature', 'humidity', 'ph', 'rainfall', 'label'], dtype='object')"
            ]
          },
          "metadata": {},
          "execution_count": 8
        }
      ]
    },
    {
      "cell_type": "code",
      "source": [
        "df['label'].unique()"
      ],
      "metadata": {
        "colab": {
          "base_uri": "https://localhost:8080/"
        },
        "id": "FtgT67gvZpnk",
        "outputId": "8015e06b-3ab7-49c7-e8cc-cd1de85bab83"
      },
      "execution_count": 9,
      "outputs": [
        {
          "output_type": "execute_result",
          "data": {
            "text/plain": [
              "array(['apple', 'banana', 'blackgram', 'chickpea', 'coconut', 'coffee',\n",
              "       'cotton', 'grapes', 'jute', 'kidneybeans', 'lentil', 'maize',\n",
              "       'mango', 'mothbeans', 'mungbean', 'muskmelon', 'orange', 'papaya',\n",
              "       'pigeonpeas', 'pomegranate', 'rice', 'watermelon'], dtype=object)"
            ]
          },
          "metadata": {},
          "execution_count": 9
        }
      ]
    },
    {
      "cell_type": "code",
      "source": [
        "df.dtypes"
      ],
      "metadata": {
        "colab": {
          "base_uri": "https://localhost:8080/"
        },
        "id": "TkffJroIZvby",
        "outputId": "540000a1-b4e2-47ec-92a3-d8cb01d4ba4b"
      },
      "execution_count": 10,
      "outputs": [
        {
          "output_type": "execute_result",
          "data": {
            "text/plain": [
              "N                int64\n",
              "P                int64\n",
              "K                int64\n",
              "temperature    float64\n",
              "humidity       float64\n",
              "ph             float64\n",
              "rainfall       float64\n",
              "label           object\n",
              "dtype: object"
            ]
          },
          "metadata": {},
          "execution_count": 10
        }
      ]
    },
    {
      "cell_type": "code",
      "source": [
        "df['label'].value_counts()"
      ],
      "metadata": {
        "colab": {
          "base_uri": "https://localhost:8080/"
        },
        "id": "sNrxnafAavpz",
        "outputId": "385df8fd-05a8-45a1-c377-aade43180c70"
      },
      "execution_count": 11,
      "outputs": [
        {
          "output_type": "execute_result",
          "data": {
            "text/plain": [
              "apple          90\n",
              "banana         90\n",
              "rice           90\n",
              "pomegranate    90\n",
              "pigeonpeas     90\n",
              "papaya         90\n",
              "orange         90\n",
              "muskmelon      90\n",
              "mungbean       90\n",
              "mothbeans      90\n",
              "mango          90\n",
              "maize          90\n",
              "lentil         90\n",
              "kidneybeans    90\n",
              "jute           90\n",
              "grapes         90\n",
              "cotton         90\n",
              "coffee         90\n",
              "coconut        90\n",
              "chickpea       90\n",
              "blackgram      90\n",
              "watermelon     90\n",
              "Name: label, dtype: int64"
            ]
          },
          "metadata": {},
          "execution_count": 11
        }
      ]
    },
    {
      "cell_type": "code",
      "source": [
        "df.head()"
      ],
      "metadata": {
        "colab": {
          "base_uri": "https://localhost:8080/",
          "height": 206
        },
        "id": "fb-DIsytcEd0",
        "outputId": "8598437d-4b7d-453f-b8fd-4cf383018b97"
      },
      "execution_count": 12,
      "outputs": [
        {
          "output_type": "execute_result",
          "data": {
            "text/plain": [
              "    N    P    K  temperature   humidity        ph    rainfall  label\n",
              "0  29  144  204    22.433245  92.486677  5.800449  119.102519  apple\n",
              "1  25  143  198    22.812125  91.518617  6.027314  107.855225  apple\n",
              "2   9  137  200    21.121521  90.687877  5.636687  102.801720  apple\n",
              "3  37  126  196    23.599973  90.975977  5.596449  107.172819  apple\n",
              "4   2  120  203    23.126527  94.712033  5.893493  108.621183  apple"
            ],
            "text/html": [
              "\n",
              "  <div id=\"df-88b5c0d0-913b-47d8-a1e8-ac5cd7a7a457\">\n",
              "    <div class=\"colab-df-container\">\n",
              "      <div>\n",
              "<style scoped>\n",
              "    .dataframe tbody tr th:only-of-type {\n",
              "        vertical-align: middle;\n",
              "    }\n",
              "\n",
              "    .dataframe tbody tr th {\n",
              "        vertical-align: top;\n",
              "    }\n",
              "\n",
              "    .dataframe thead th {\n",
              "        text-align: right;\n",
              "    }\n",
              "</style>\n",
              "<table border=\"1\" class=\"dataframe\">\n",
              "  <thead>\n",
              "    <tr style=\"text-align: right;\">\n",
              "      <th></th>\n",
              "      <th>N</th>\n",
              "      <th>P</th>\n",
              "      <th>K</th>\n",
              "      <th>temperature</th>\n",
              "      <th>humidity</th>\n",
              "      <th>ph</th>\n",
              "      <th>rainfall</th>\n",
              "      <th>label</th>\n",
              "    </tr>\n",
              "  </thead>\n",
              "  <tbody>\n",
              "    <tr>\n",
              "      <th>0</th>\n",
              "      <td>29</td>\n",
              "      <td>144</td>\n",
              "      <td>204</td>\n",
              "      <td>22.433245</td>\n",
              "      <td>92.486677</td>\n",
              "      <td>5.800449</td>\n",
              "      <td>119.102519</td>\n",
              "      <td>apple</td>\n",
              "    </tr>\n",
              "    <tr>\n",
              "      <th>1</th>\n",
              "      <td>25</td>\n",
              "      <td>143</td>\n",
              "      <td>198</td>\n",
              "      <td>22.812125</td>\n",
              "      <td>91.518617</td>\n",
              "      <td>6.027314</td>\n",
              "      <td>107.855225</td>\n",
              "      <td>apple</td>\n",
              "    </tr>\n",
              "    <tr>\n",
              "      <th>2</th>\n",
              "      <td>9</td>\n",
              "      <td>137</td>\n",
              "      <td>200</td>\n",
              "      <td>21.121521</td>\n",
              "      <td>90.687877</td>\n",
              "      <td>5.636687</td>\n",
              "      <td>102.801720</td>\n",
              "      <td>apple</td>\n",
              "    </tr>\n",
              "    <tr>\n",
              "      <th>3</th>\n",
              "      <td>37</td>\n",
              "      <td>126</td>\n",
              "      <td>196</td>\n",
              "      <td>23.599973</td>\n",
              "      <td>90.975977</td>\n",
              "      <td>5.596449</td>\n",
              "      <td>107.172819</td>\n",
              "      <td>apple</td>\n",
              "    </tr>\n",
              "    <tr>\n",
              "      <th>4</th>\n",
              "      <td>2</td>\n",
              "      <td>120</td>\n",
              "      <td>203</td>\n",
              "      <td>23.126527</td>\n",
              "      <td>94.712033</td>\n",
              "      <td>5.893493</td>\n",
              "      <td>108.621183</td>\n",
              "      <td>apple</td>\n",
              "    </tr>\n",
              "  </tbody>\n",
              "</table>\n",
              "</div>\n",
              "      <button class=\"colab-df-convert\" onclick=\"convertToInteractive('df-88b5c0d0-913b-47d8-a1e8-ac5cd7a7a457')\"\n",
              "              title=\"Convert this dataframe to an interactive table.\"\n",
              "              style=\"display:none;\">\n",
              "        \n",
              "  <svg xmlns=\"http://www.w3.org/2000/svg\" height=\"24px\"viewBox=\"0 0 24 24\"\n",
              "       width=\"24px\">\n",
              "    <path d=\"M0 0h24v24H0V0z\" fill=\"none\"/>\n",
              "    <path d=\"M18.56 5.44l.94 2.06.94-2.06 2.06-.94-2.06-.94-.94-2.06-.94 2.06-2.06.94zm-11 1L8.5 8.5l.94-2.06 2.06-.94-2.06-.94L8.5 2.5l-.94 2.06-2.06.94zm10 10l.94 2.06.94-2.06 2.06-.94-2.06-.94-.94-2.06-.94 2.06-2.06.94z\"/><path d=\"M17.41 7.96l-1.37-1.37c-.4-.4-.92-.59-1.43-.59-.52 0-1.04.2-1.43.59L10.3 9.45l-7.72 7.72c-.78.78-.78 2.05 0 2.83L4 21.41c.39.39.9.59 1.41.59.51 0 1.02-.2 1.41-.59l7.78-7.78 2.81-2.81c.8-.78.8-2.07 0-2.86zM5.41 20L4 18.59l7.72-7.72 1.47 1.35L5.41 20z\"/>\n",
              "  </svg>\n",
              "      </button>\n",
              "      \n",
              "  <style>\n",
              "    .colab-df-container {\n",
              "      display:flex;\n",
              "      flex-wrap:wrap;\n",
              "      gap: 12px;\n",
              "    }\n",
              "\n",
              "    .colab-df-convert {\n",
              "      background-color: #E8F0FE;\n",
              "      border: none;\n",
              "      border-radius: 50%;\n",
              "      cursor: pointer;\n",
              "      display: none;\n",
              "      fill: #1967D2;\n",
              "      height: 32px;\n",
              "      padding: 0 0 0 0;\n",
              "      width: 32px;\n",
              "    }\n",
              "\n",
              "    .colab-df-convert:hover {\n",
              "      background-color: #E2EBFA;\n",
              "      box-shadow: 0px 1px 2px rgba(60, 64, 67, 0.3), 0px 1px 3px 1px rgba(60, 64, 67, 0.15);\n",
              "      fill: #174EA6;\n",
              "    }\n",
              "\n",
              "    [theme=dark] .colab-df-convert {\n",
              "      background-color: #3B4455;\n",
              "      fill: #D2E3FC;\n",
              "    }\n",
              "\n",
              "    [theme=dark] .colab-df-convert:hover {\n",
              "      background-color: #434B5C;\n",
              "      box-shadow: 0px 1px 3px 1px rgba(0, 0, 0, 0.15);\n",
              "      filter: drop-shadow(0px 1px 2px rgba(0, 0, 0, 0.3));\n",
              "      fill: #FFFFFF;\n",
              "    }\n",
              "  </style>\n",
              "\n",
              "      <script>\n",
              "        const buttonEl =\n",
              "          document.querySelector('#df-88b5c0d0-913b-47d8-a1e8-ac5cd7a7a457 button.colab-df-convert');\n",
              "        buttonEl.style.display =\n",
              "          google.colab.kernel.accessAllowed ? 'block' : 'none';\n",
              "\n",
              "        async function convertToInteractive(key) {\n",
              "          const element = document.querySelector('#df-88b5c0d0-913b-47d8-a1e8-ac5cd7a7a457');\n",
              "          const dataTable =\n",
              "            await google.colab.kernel.invokeFunction('convertToInteractive',\n",
              "                                                     [key], {});\n",
              "          if (!dataTable) return;\n",
              "\n",
              "          const docLinkHtml = 'Like what you see? Visit the ' +\n",
              "            '<a target=\"_blank\" href=https://colab.research.google.com/notebooks/data_table.ipynb>data table notebook</a>'\n",
              "            + ' to learn more about interactive tables.';\n",
              "          element.innerHTML = '';\n",
              "          dataTable['output_type'] = 'display_data';\n",
              "          await google.colab.output.renderOutput(dataTable, element);\n",
              "          const docLink = document.createElement('div');\n",
              "          docLink.innerHTML = docLinkHtml;\n",
              "          element.appendChild(docLink);\n",
              "        }\n",
              "      </script>\n",
              "    </div>\n",
              "  </div>\n",
              "  "
            ]
          },
          "metadata": {},
          "execution_count": 12
        }
      ]
    },
    {
      "cell_type": "code",
      "source": [
        "sns.heatmap(df.corr(),annot=True)"
      ],
      "metadata": {
        "colab": {
          "base_uri": "https://localhost:8080/",
          "height": 339
        },
        "id": "LWT-Z5qzcGGZ",
        "outputId": "7fef0ec2-07e2-403b-ed6b-b3afa6396b3a"
      },
      "execution_count": 13,
      "outputs": [
        {
          "output_type": "execute_result",
          "data": {
            "text/plain": [
              "<matplotlib.axes._subplots.AxesSubplot at 0x7f5bfe0c5fd0>"
            ]
          },
          "metadata": {},
          "execution_count": 13
        },
        {
          "output_type": "display_data",
          "data": {
            "text/plain": [
              "<Figure size 432x288 with 2 Axes>"
            ],
            "image/png": "[encoded data removed]"
          },
          "metadata": {
            "needs_background": "light"
          }
        }
      ]
    },
    {
      "cell_type": "code",
      "source": [
        "target_data = df['label']\n",
        "input_data = df.copy()\n",
        "input_data.drop('label', axis=1, inplace=True)\n",
        "input_data.head()\n"
      ],
      "metadata": {
        "colab": {
          "base_uri": "https://localhost:8080/",
          "height": 206
        },
        "id": "cGb8Ma7sdtDh",
        "outputId": "dd095be4-c2b7-44a4-f624-721316bab4c3"
      },
      "execution_count": 14,
      "outputs": [
        {
          "output_type": "execute_result",
          "data": {
            "text/plain": [
              "    N    P    K  temperature   humidity        ph    rainfall\n",
              "0  29  144  204    22.433245  92.486677  5.800449  119.102519\n",
              "1  25  143  198    22.812125  91.518617  6.027314  107.855225\n",
              "2   9  137  200    21.121521  90.687877  5.636687  102.801720\n",
              "3  37  126  196    23.599973  90.975977  5.596449  107.172819\n",
              "4   2  120  203    23.126527  94.712033  5.893493  108.621183"
            ],
            "text/html": [
              "\n",
              "  <div id=\"df-3bdb5f6f-037e-419a-8466-f2954bbe1b86\">\n",
              "    <div class=\"colab-df-container\">\n",
              "      <div>\n",
              "<style scoped>\n",
              "    .dataframe tbody tr th:only-of-type {\n",
              "        vertical-align: middle;\n",
              "    }\n",
              "\n",
              "    .dataframe tbody tr th {\n",
              "        vertical-align: top;\n",
              "    }\n",
              "\n",
              "    .dataframe thead th {\n",
              "        text-align: right;\n",
              "    }\n",
              "</style>\n",
              "<table border=\"1\" class=\"dataframe\">\n",
              "  <thead>\n",
              "    <tr style=\"text-align: right;\">\n",
              "      <th></th>\n",
              "      <th>N</th>\n",
              "      <th>P</th>\n",
              "      <th>K</th>\n",
              "      <th>temperature</th>\n",
              "      <th>humidity</th>\n",
              "      <th>ph</th>\n",
              "      <th>rainfall</th>\n",
              "    </tr>\n",
              "  </thead>\n",
              "  <tbody>\n",
              "    <tr>\n",
              "      <th>0</th>\n",
              "      <td>29</td>\n",
              "      <td>144</td>\n",
              "      <td>204</td>\n",
              "      <td>22.433245</td>\n",
              "      <td>92.486677</td>\n",
              "      <td>5.800449</td>\n",
              "      <td>119.102519</td>\n",
              "    </tr>\n",
              "    <tr>\n",
              "      <th>1</th>\n",
              "      <td>25</td>\n",
              "      <td>143</td>\n",
              "      <td>198</td>\n",
              "      <td>22.812125</td>\n",
              "      <td>91.518617</td>\n",
              "      <td>6.027314</td>\n",
              "      <td>107.855225</td>\n",
              "    </tr>\n",
              "    <tr>\n",
              "      <th>2</th>\n",
              "      <td>9</td>\n",
              "      <td>137</td>\n",
              "      <td>200</td>\n",
              "      <td>21.121521</td>\n",
              "      <td>90.687877</td>\n",
              "      <td>5.636687</td>\n",
              "      <td>102.801720</td>\n",
              "    </tr>\n",
              "    <tr>\n",
              "      <th>3</th>\n",
              "      <td>37</td>\n",
              "      <td>126</td>\n",
              "      <td>196</td>\n",
              "      <td>23.599973</td>\n",
              "      <td>90.975977</td>\n",
              "      <td>5.596449</td>\n",
              "      <td>107.172819</td>\n",
              "    </tr>\n",
              "    <tr>\n",
              "      <th>4</th>\n",
              "      <td>2</td>\n",
              "      <td>120</td>\n",
              "      <td>203</td>\n",
              "      <td>23.126527</td>\n",
              "      <td>94.712033</td>\n",
              "      <td>5.893493</td>\n",
              "      <td>108.621183</td>\n",
              "    </tr>\n",
              "  </tbody>\n",
              "</table>\n",
              "</div>\n",
              "      <button class=\"colab-df-convert\" onclick=\"convertToInteractive('df-3bdb5f6f-037e-419a-8466-f2954bbe1b86')\"\n",
              "              title=\"Convert this dataframe to an interactive table.\"\n",
              "              style=\"display:none;\">\n",
              "        \n",
              "  <svg xmlns=\"http://www.w3.org/2000/svg\" height=\"24px\"viewBox=\"0 0 24 24\"\n",
              "       width=\"24px\">\n",
              "    <path d=\"M0 0h24v24H0V0z\" fill=\"none\"/>\n",
              "    <path d=\"M18.56 5.44l.94 2.06.94-2.06 2.06-.94-2.06-.94-.94-2.06-.94 2.06-2.06.94zm-11 1L8.5 8.5l.94-2.06 2.06-.94-2.06-.94L8.5 2.5l-.94 2.06-2.06.94zm10 10l.94 2.06.94-2.06 2.06-.94-2.06-.94-.94-2.06-.94 2.06-2.06.94z\"/><path d=\"M17.41 7.96l-1.37-1.37c-.4-.4-.92-.59-1.43-.59-.52 0-1.04.2-1.43.59L10.3 9.45l-7.72 7.72c-.78.78-.78 2.05 0 2.83L4 21.41c.39.39.9.59 1.41.59.51 0 1.02-.2 1.41-.59l7.78-7.78 2.81-2.81c.8-.78.8-2.07 0-2.86zM5.41 20L4 18.59l7.72-7.72 1.47 1.35L5.41 20z\"/>\n",
              "  </svg>\n",
              "      </button>\n",
              "      \n",
              "  <style>\n",
              "    .colab-df-container {\n",
              "      display:flex;\n",
              "      flex-wrap:wrap;\n",
              "      gap: 12px;\n",
              "    }\n",
              "\n",
              "    .colab-df-convert {\n",
              "      background-color: #E8F0FE;\n",
              "      border: none;\n",
              "      border-radius: 50%;\n",
              "      cursor: pointer;\n",
              "      display: none;\n",
              "      fill: #1967D2;\n",
              "      height: 32px;\n",
              "      padding: 0 0 0 0;\n",
              "      width: 32px;\n",
              "    }\n",
              "\n",
              "    .colab-df-convert:hover {\n",
              "      background-color: #E2EBFA;\n",
              "      box-shadow: 0px 1px 2px rgba(60, 64, 67, 0.3), 0px 1px 3px 1px rgba(60, 64, 67, 0.15);\n",
              "      fill: #174EA6;\n",
              "    }\n",
              "\n",
              "    [theme=dark] .colab-df-convert {\n",
              "      background-color: #3B4455;\n",
              "      fill: #D2E3FC;\n",
              "    }\n",
              "\n",
              "    [theme=dark] .colab-df-convert:hover {\n",
              "      background-color: #434B5C;\n",
              "      box-shadow: 0px 1px 3px 1px rgba(0, 0, 0, 0.15);\n",
              "      filter: drop-shadow(0px 1px 2px rgba(0, 0, 0, 0.3));\n",
              "      fill: #FFFFFF;\n",
              "    }\n",
              "  </style>\n",
              "\n",
              "      <script>\n",
              "        const buttonEl =\n",
              "          document.querySelector('#df-3bdb5f6f-037e-419a-8466-f2954bbe1b86 button.colab-df-convert');\n",
              "        buttonEl.style.display =\n",
              "          google.colab.kernel.accessAllowed ? 'block' : 'none';\n",
              "\n",
              "        async function convertToInteractive(key) {\n",
              "          const element = document.querySelector('#df-3bdb5f6f-037e-419a-8466-f2954bbe1b86');\n",
              "          const dataTable =\n",
              "            await google.colab.kernel.invokeFunction('convertToInteractive',\n",
              "                                                     [key], {});\n",
              "          if (!dataTable) return;\n",
              "\n",
              "          const docLinkHtml = 'Like what you see? Visit the ' +\n",
              "            '<a target=\"_blank\" href=https://colab.research.google.com/notebooks/data_table.ipynb>data table notebook</a>'\n",
              "            + ' to learn more about interactive tables.';\n",
              "          element.innerHTML = '';\n",
              "          dataTable['output_type'] = 'display_data';\n",
              "          await google.colab.output.renderOutput(dataTable, element);\n",
              "          const docLink = document.createElement('div');\n",
              "          docLink.innerHTML = docLinkHtml;\n",
              "          element.appendChild(docLink);\n",
              "        }\n",
              "      </script>\n",
              "    </div>\n",
              "  </div>\n",
              "  "
            ]
          },
          "metadata": {},
          "execution_count": 14
        }
      ]
    },
    {
      "cell_type": "code",
      "source": [
        "target_data"
      ],
      "metadata": {
        "colab": {
          "base_uri": "https://localhost:8080/"
        },
        "id": "X6vV5u3neK0v",
        "outputId": "4a80bc97-1f2c-4151-a21e-6e42fecbca8a"
      },
      "execution_count": 15,
      "outputs": [
        {
          "output_type": "execute_result",
          "data": {
            "text/plain": [
              "0            apple\n",
              "1            apple\n",
              "2            apple\n",
              "3            apple\n",
              "4            apple\n",
              "           ...    \n",
              "1975    watermelon\n",
              "1976    watermelon\n",
              "1977    watermelon\n",
              "1978    watermelon\n",
              "1979    watermelon\n",
              "Name: label, Length: 1980, dtype: object"
            ]
          },
          "metadata": {},
          "execution_count": 15
        }
      ]
    },
    {
      "cell_type": "code",
      "source": [
        "accuracy = []\n",
        "model = []"
      ],
      "metadata": {
        "id": "4LHgxZL2eu8a"
      },
      "execution_count": 16,
      "outputs": []
    },
    {
      "cell_type": "code",
      "source": [
        "from sklearn.model_selection import train_test_split\n",
        "from sklearn.metrics import classification_report\n",
        "from sklearn import metrics\n",
        "Xtrain, Xtest, Ytrain, Ytest = train_test_split(input_data, target_data, test_size = 0.2, random_state=2)"
      ],
      "metadata": {
        "id": "T0Hck96Ay8sy"
      },
      "execution_count": 17,
      "outputs": []
    },
    {
      "cell_type": "markdown",
      "source": [
        "# Decision Tree Classifier"
      ],
      "metadata": {
        "id": "MN9HH3h-DonQ"
      }
    },
    {
      "cell_type": "code",
      "source": [
        "from sklearn.tree import DecisionTreeClassifier\n",
        "\n",
        "DecisionTree = DecisionTreeClassifier(criterion=\"entropy\",random_state=2,max_depth=5)\n",
        "\n",
        "DecisionTree.fit(Xtrain,Ytrain)\n",
        "\n",
        "predicted_values = DecisionTree.predict(Xtest)\n",
        "x = metrics.accuracy_score(Ytest, predicted_values)\n",
        "accuracy.append(x)\n",
        "model.append('Decision Tree')\n",
        "print(\"DecisionTrees's Accuracy is: \", x*100)\n",
        "\n",
        "print(classification_report(Ytest,predicted_values))"
      ],
      "metadata": {
        "id": "TSgmRiv4Bqrx",
        "colab": {
          "base_uri": "https://localhost:8080/"
        },
        "outputId": "1a7dd3c7-4078-4b1c-aba9-3b66ff90e4f8"
      },
      "execution_count": 18,
      "outputs": [
        {
          "output_type": "stream",
          "name": "stdout",
          "text": [
            "DecisionTrees's Accuracy is:  93.93939393939394\n",
            "              precision    recall  f1-score   support\n",
            "\n",
            "       apple       1.00      1.00      1.00        18\n",
            "      banana       1.00      1.00      1.00        17\n",
            "   blackgram       0.83      0.88      0.86        17\n",
            "    chickpea       1.00      1.00      1.00        18\n",
            "     coconut       1.00      1.00      1.00        15\n",
            "      coffee       1.00      1.00      1.00        24\n",
            "      cotton       1.00      1.00      1.00        24\n",
            "      grapes       1.00      1.00      1.00        14\n",
            "        jute       1.00      0.42      0.59        19\n",
            " kidneybeans       1.00      0.84      0.91        19\n",
            "      lentil       0.89      1.00      0.94        16\n",
            "       maize       1.00      0.45      0.62        11\n",
            "       mango       1.00      1.00      1.00        15\n",
            "   mothbeans       0.70      0.90      0.79        21\n",
            "    mungbean       1.00      1.00      1.00        20\n",
            "   muskmelon       1.00      1.00      1.00        19\n",
            "      orange       1.00      1.00      1.00        23\n",
            "      papaya       1.00      1.00      1.00        15\n",
            "  pigeonpeas       1.00      1.00      1.00        13\n",
            " pomegranate       1.00      1.00      1.00        18\n",
            "        rice       0.66      1.00      0.79        21\n",
            "  watermelon       1.00      1.00      1.00        19\n",
            "\n",
            "    accuracy                           0.94       396\n",
            "   macro avg       0.96      0.93      0.93       396\n",
            "weighted avg       0.95      0.94      0.94       396\n",
            "\n"
          ]
        }
      ]
    },
    {
      "cell_type": "code",
      "source": [
        "from sklearn.model_selection import cross_val_score\n",
        "score = cross_val_score(DecisionTree, input_data, target_data, cv=5)\n",
        "score"
      ],
      "metadata": {
        "colab": {
          "base_uri": "https://localhost:8080/"
        },
        "id": "nRyA3vErAE2O",
        "outputId": "8acff0f7-2d2c-4b60-d537-da3df5ed744e"
      },
      "execution_count": 19,
      "outputs": [
        {
          "output_type": "execute_result",
          "data": {
            "text/plain": [
              "array([0.91666667, 0.92424242, 0.93181818, 0.93181818, 0.90909091])"
            ]
          },
          "metadata": {},
          "execution_count": 19
        }
      ]
    },
    {
      "cell_type": "code",
      "source": [
        "import pickle\n",
        "# Dump the trained Naive Bayes classifier with Pickle\n",
        "DT_pkl_filename = 'DecisionTree.pkl'\n",
        "# Open the file to save as pkl file\n",
        "DT_Model_pkl = open(DT_pkl_filename, 'wb')\n",
        "pickle.dump(DecisionTree, DT_Model_pkl)\n",
        "# Close the pickle instances\n",
        "DT_Model_pkl.close()"
      ],
      "metadata": {
        "id": "hO_phnIHAFJu"
      },
      "execution_count": 20,
      "outputs": []
    },
    {
      "cell_type": "markdown",
      "source": [
        "# Gaussian Naive Baiyes"
      ],
      "metadata": {
        "id": "fWtsZOK7ajMe"
      }
    },
    {
      "cell_type": "code",
      "source": [
        "from sklearn.naive_bayes import GaussianNB\n",
        "\n",
        "NaiveBayes = GaussianNB()\n",
        "\n",
        "NaiveBayes.fit(Xtrain,Ytrain)\n",
        "\n",
        "predicted_values = NaiveBayes.predict(Xtest)\n",
        "x = metrics.accuracy_score(Ytest, predicted_values)\n",
        "accuracy.append(x)\n",
        "model.append('Naive Bayes')\n",
        "print(\"Naive Bayes's Accuracy is: \", x)\n",
        "\n",
        "print(classification_report(Ytest,predicted_values))"
      ],
      "metadata": {
        "colab": {
          "base_uri": "https://localhost:8080/"
        },
        "id": "0j3l9TDDAFVH",
        "outputId": "1b678c89-57c5-48a6-d90e-821057c436c1"
      },
      "execution_count": 21,
      "outputs": [
        {
          "output_type": "stream",
          "name": "stdout",
          "text": [
            "Naive Bayes's Accuracy is:  0.9974747474747475\n",
            "              precision    recall  f1-score   support\n",
            "\n",
            "       apple       1.00      1.00      1.00        18\n",
            "      banana       1.00      1.00      1.00        17\n",
            "   blackgram       1.00      1.00      1.00        17\n",
            "    chickpea       1.00      1.00      1.00        18\n",
            "     coconut       1.00      1.00      1.00        15\n",
            "      coffee       1.00      1.00      1.00        24\n",
            "      cotton       1.00      1.00      1.00        24\n",
            "      grapes       1.00      1.00      1.00        14\n",
            "        jute       1.00      0.95      0.97        19\n",
            " kidneybeans       1.00      1.00      1.00        19\n",
            "      lentil       1.00      1.00      1.00        16\n",
            "       maize       1.00      1.00      1.00        11\n",
            "       mango       1.00      1.00      1.00        15\n",
            "   mothbeans       1.00      1.00      1.00        21\n",
            "    mungbean       1.00      1.00      1.00        20\n",
            "   muskmelon       1.00      1.00      1.00        19\n",
            "      orange       1.00      1.00      1.00        23\n",
            "      papaya       1.00      1.00      1.00        15\n",
            "  pigeonpeas       1.00      1.00      1.00        13\n",
            " pomegranate       1.00      1.00      1.00        18\n",
            "        rice       0.95      1.00      0.98        21\n",
            "  watermelon       1.00      1.00      1.00        19\n",
            "\n",
            "    accuracy                           1.00       396\n",
            "   macro avg       1.00      1.00      1.00       396\n",
            "weighted avg       1.00      1.00      1.00       396\n",
            "\n"
          ]
        }
      ]
    },
    {
      "cell_type": "code",
      "source": [
        "# Cross validation score (NaiveBayes)\n",
        "score = cross_val_score(NaiveBayes,input_data,target_data,cv=5)\n",
        "score"
      ],
      "metadata": {
        "colab": {
          "base_uri": "https://localhost:8080/"
        },
        "id": "NfrRyZZvAbhJ",
        "outputId": "1fcdd715-6d1f-4dfe-9600-8dade141d783"
      },
      "execution_count": 22,
      "outputs": [
        {
          "output_type": "execute_result",
          "data": {
            "text/plain": [
              "array([0.99494949, 0.99242424, 0.99494949, 0.99747475, 0.99494949])"
            ]
          },
          "metadata": {},
          "execution_count": 22
        }
      ]
    },
    {
      "cell_type": "code",
      "source": [
        "import pickle\n",
        "# Dump the trained Naive Bayes classifier with Pickle\n",
        "NB_pkl_filename = 'NBClassifier.pkl'\n",
        "# Open the file to save as pkl file\n",
        "NB_Model_pkl = open(NB_pkl_filename, 'wb')\n",
        "pickle.dump(NaiveBayes, NB_Model_pkl)\n",
        "# Close the pickle instances\n",
        "NB_Model_pkl.close()"
      ],
      "metadata": {
        "id": "LPbayotCAed_"
      },
      "execution_count": 23,
      "outputs": []
    },
    {
      "cell_type": "markdown",
      "source": [
        "# Support Vector Machine"
      ],
      "metadata": {
        "id": "uqKOkdqEatLc"
      }
    },
    {
      "cell_type": "code",
      "source": [
        "from sklearn.svm import SVC\n",
        "\n",
        "SVM = SVC(gamma='auto')\n",
        "\n",
        "SVM.fit(Xtrain,Ytrain)\n",
        "\n",
        "predicted_values = SVM.predict(Xtest)\n",
        "\n",
        "x = metrics.accuracy_score(Ytest, predicted_values)\n",
        "accuracy.append(x)\n",
        "model.append('SVM')\n",
        "print(\"SVM's Accuracy is: \", x)\n",
        "\n",
        "print(classification_report(Ytest,predicted_values))"
      ],
      "metadata": {
        "colab": {
          "base_uri": "https://localhost:8080/"
        },
        "id": "8Z28PNNtAeqX",
        "outputId": "c5bdfe77-282f-4b37-87f7-fbae52f2f0bb"
      },
      "execution_count": 24,
      "outputs": [
        {
          "output_type": "stream",
          "name": "stdout",
          "text": [
            "SVM's Accuracy is:  0.09343434343434344\n",
            "              precision    recall  f1-score   support\n",
            "\n",
            "       apple       1.00      0.17      0.29        18\n",
            "      banana       1.00      0.06      0.11        17\n",
            "   blackgram       0.00      0.00      0.00        17\n",
            "    chickpea       1.00      0.17      0.29        18\n",
            "     coconut       0.00      0.00      0.00        15\n",
            "      coffee       0.00      0.00      0.00        24\n",
            "      cotton       1.00      0.12      0.22        24\n",
            "      grapes       1.00      0.07      0.13        14\n",
            "        jute       1.00      0.05      0.10        19\n",
            " kidneybeans       1.00      0.05      0.10        19\n",
            "      lentil       0.00      0.00      0.00        16\n",
            "       maize       0.03      1.00      0.06        11\n",
            "       mango       1.00      0.20      0.33        15\n",
            "   mothbeans       0.00      0.00      0.00        21\n",
            "    mungbean       1.00      0.05      0.10        20\n",
            "   muskmelon       1.00      0.26      0.42        19\n",
            "      orange       1.00      0.04      0.08        23\n",
            "      papaya       0.00      0.00      0.00        15\n",
            "  pigeonpeas       0.00      0.00      0.00        13\n",
            " pomegranate       1.00      0.17      0.29        18\n",
            "        rice       0.00      0.00      0.00        21\n",
            "  watermelon       0.00      0.00      0.00        19\n",
            "\n",
            "    accuracy                           0.09       396\n",
            "   macro avg       0.55      0.11      0.11       396\n",
            "weighted avg       0.57      0.09      0.12       396\n",
            "\n"
          ]
        },
        {
          "output_type": "stream",
          "name": "stderr",
          "text": [
            "/usr/local/lib/python3.7/dist-packages/sklearn/metrics/_classification.py:1318: UndefinedMetricWarning: Precision and F-score are ill-defined and being set to 0.0 in labels with no predicted samples. Use `zero_division` parameter to control this behavior.\n",
            "  _warn_prf(average, modifier, msg_start, len(result))\n",
            "/usr/local/lib/python3.7/dist-packages/sklearn/metrics/_classification.py:1318: UndefinedMetricWarning: Precision and F-score are ill-defined and being set to 0.0 in labels with no predicted samples. Use `zero_division` parameter to control this behavior.\n",
            "  _warn_prf(average, modifier, msg_start, len(result))\n",
            "/usr/local/lib/python3.7/dist-packages/sklearn/metrics/_classification.py:1318: UndefinedMetricWarning: Precision and F-score are ill-defined and being set to 0.0 in labels with no predicted samples. Use `zero_division` parameter to control this behavior.\n",
            "  _warn_prf(average, modifier, msg_start, len(result))\n"
          ]
        }
      ]
    },
    {
      "cell_type": "code",
      "source": [
        "# Cross validation score (SVM)\n",
        "score = cross_val_score(SVM,input_data,target_data,cv=5)\n",
        "score"
      ],
      "metadata": {
        "colab": {
          "base_uri": "https://localhost:8080/"
        },
        "id": "ghAREEiQAexh",
        "outputId": "ba6611a5-6101-4a34-f11c-463e891bcc74"
      },
      "execution_count": 25,
      "outputs": [
        {
          "output_type": "execute_result",
          "data": {
            "text/plain": [
              "array([0.27777778, 0.28787879, 0.27020202, 0.28282828, 0.24242424])"
            ]
          },
          "metadata": {},
          "execution_count": 25
        }
      ]
    },
    {
      "cell_type": "markdown",
      "source": [
        "# Logistic Regression"
      ],
      "metadata": {
        "id": "vYSIsPhfazkr"
      }
    },
    {
      "cell_type": "code",
      "source": [
        "from sklearn.linear_model import LogisticRegression\n",
        "\n",
        "LogReg = LogisticRegression(random_state=2, max_iter=1000)\n",
        "\n",
        "LogReg.fit(Xtrain,Ytrain)\n",
        "\n",
        "predicted_values = LogReg.predict(Xtest)\n",
        "\n",
        "x = metrics.accuracy_score(Ytest, predicted_values)\n",
        "accuracy.append(x)\n",
        "model.append('Logistic Regression')\n",
        "print(\"Logistic Regression's Accuracy is: \", x)\n",
        "\n",
        "print(classification_report(Ytest,predicted_values))"
      ],
      "metadata": {
        "colab": {
          "base_uri": "https://localhost:8080/"
        },
        "id": "j6qFszlGAe7J",
        "outputId": "2c7f459f-e477-42c3-ce30-67f7c00938ce"
      },
      "execution_count": 26,
      "outputs": [
        {
          "output_type": "stream",
          "name": "stdout",
          "text": [
            "Logistic Regression's Accuracy is:  0.9671717171717171\n",
            "              precision    recall  f1-score   support\n",
            "\n",
            "       apple       1.00      1.00      1.00        18\n",
            "      banana       1.00      1.00      1.00        17\n",
            "   blackgram       0.94      0.94      0.94        17\n",
            "    chickpea       1.00      1.00      1.00        18\n",
            "     coconut       1.00      1.00      1.00        15\n",
            "      coffee       0.96      1.00      0.98        24\n",
            "      cotton       0.92      0.96      0.94        24\n",
            "      grapes       1.00      1.00      1.00        14\n",
            "        jute       0.94      0.89      0.92        19\n",
            " kidneybeans       1.00      1.00      1.00        19\n",
            "      lentil       0.88      0.88      0.88        16\n",
            "       maize       0.90      0.82      0.86        11\n",
            "       mango       1.00      1.00      1.00        15\n",
            "   mothbeans       0.86      0.86      0.86        21\n",
            "    mungbean       1.00      1.00      1.00        20\n",
            "   muskmelon       1.00      1.00      1.00        19\n",
            "      orange       1.00      1.00      1.00        23\n",
            "      papaya       1.00      0.93      0.97        15\n",
            "  pigeonpeas       0.93      1.00      0.96        13\n",
            " pomegranate       1.00      1.00      1.00        18\n",
            "        rice       0.95      0.95      0.95        21\n",
            "  watermelon       1.00      1.00      1.00        19\n",
            "\n",
            "    accuracy                           0.97       396\n",
            "   macro avg       0.97      0.97      0.97       396\n",
            "weighted avg       0.97      0.97      0.97       396\n",
            "\n"
          ]
        },
        {
          "output_type": "stream",
          "name": "stderr",
          "text": [
            "/usr/local/lib/python3.7/dist-packages/sklearn/linear_model/_logistic.py:818: ConvergenceWarning: lbfgs failed to converge (status=1):\n",
            "STOP: TOTAL NO. of ITERATIONS REACHED LIMIT.\n",
            "\n",
            "Increase the number of iterations (max_iter) or scale the data as shown in:\n",
            "    https://scikit-learn.org/stable/modules/preprocessing.html\n",
            "Please also refer to the documentation for alternative solver options:\n",
            "    https://scikit-learn.org/stable/modules/linear_model.html#logistic-regression\n",
            "  extra_warning_msg=_LOGISTIC_SOLVER_CONVERGENCE_MSG,\n"
          ]
        }
      ]
    },
    {
      "cell_type": "code",
      "source": [
        "# Cross validation score (Logistic Regression)\n",
        "score = cross_val_score(LogReg,input_data,target_data,cv=5)\n",
        "score"
      ],
      "metadata": {
        "colab": {
          "base_uri": "https://localhost:8080/"
        },
        "id": "QgtaJv-eAfEC",
        "outputId": "818604d0-ee13-4829-9ac4-5d3121684105"
      },
      "execution_count": 27,
      "outputs": [
        {
          "output_type": "stream",
          "name": "stderr",
          "text": [
            "/usr/local/lib/python3.7/dist-packages/sklearn/linear_model/_logistic.py:818: ConvergenceWarning: lbfgs failed to converge (status=1):\n",
            "STOP: TOTAL NO. of ITERATIONS REACHED LIMIT.\n",
            "\n",
            "Increase the number of iterations (max_iter) or scale the data as shown in:\n",
            "    https://scikit-learn.org/stable/modules/preprocessing.html\n",
            "Please also refer to the documentation for alternative solver options:\n",
            "    https://scikit-learn.org/stable/modules/linear_model.html#logistic-regression\n",
            "  extra_warning_msg=_LOGISTIC_SOLVER_CONVERGENCE_MSG,\n",
            "/usr/local/lib/python3.7/dist-packages/sklearn/linear_model/_logistic.py:818: ConvergenceWarning: lbfgs failed to converge (status=1):\n",
            "STOP: TOTAL NO. of ITERATIONS REACHED LIMIT.\n",
            "\n",
            "Increase the number of iterations (max_iter) or scale the data as shown in:\n",
            "    https://scikit-learn.org/stable/modules/preprocessing.html\n",
            "Please also refer to the documentation for alternative solver options:\n",
            "    https://scikit-learn.org/stable/modules/linear_model.html#logistic-regression\n",
            "  extra_warning_msg=_LOGISTIC_SOLVER_CONVERGENCE_MSG,\n",
            "/usr/local/lib/python3.7/dist-packages/sklearn/linear_model/_logistic.py:818: ConvergenceWarning: lbfgs failed to converge (status=1):\n",
            "STOP: TOTAL NO. of ITERATIONS REACHED LIMIT.\n",
            "\n",
            "Increase the number of iterations (max_iter) or scale the data as shown in:\n",
            "    https://scikit-learn.org/stable/modules/preprocessing.html\n",
            "Please also refer to the documentation for alternative solver options:\n",
            "    https://scikit-learn.org/stable/modules/linear_model.html#logistic-regression\n",
            "  extra_warning_msg=_LOGISTIC_SOLVER_CONVERGENCE_MSG,\n",
            "/usr/local/lib/python3.7/dist-packages/sklearn/linear_model/_logistic.py:818: ConvergenceWarning: lbfgs failed to converge (status=1):\n",
            "STOP: TOTAL NO. of ITERATIONS REACHED LIMIT.\n",
            "\n",
            "Increase the number of iterations (max_iter) or scale the data as shown in:\n",
            "    https://scikit-learn.org/stable/modules/preprocessing.html\n",
            "Please also refer to the documentation for alternative solver options:\n",
            "    https://scikit-learn.org/stable/modules/linear_model.html#logistic-regression\n",
            "  extra_warning_msg=_LOGISTIC_SOLVER_CONVERGENCE_MSG,\n",
            "/usr/local/lib/python3.7/dist-packages/sklearn/linear_model/_logistic.py:818: ConvergenceWarning: lbfgs failed to converge (status=1):\n",
            "STOP: TOTAL NO. of ITERATIONS REACHED LIMIT.\n",
            "\n",
            "Increase the number of iterations (max_iter) or scale the data as shown in:\n",
            "    https://scikit-learn.org/stable/modules/preprocessing.html\n",
            "Please also refer to the documentation for alternative solver options:\n",
            "    https://scikit-learn.org/stable/modules/linear_model.html#logistic-regression\n",
            "  extra_warning_msg=_LOGISTIC_SOLVER_CONVERGENCE_MSG,\n"
          ]
        },
        {
          "output_type": "execute_result",
          "data": {
            "text/plain": [
              "array([0.96717172, 0.97474747, 0.95707071, 0.96717172, 0.97222222])"
            ]
          },
          "metadata": {},
          "execution_count": 27
        }
      ]
    },
    {
      "cell_type": "code",
      "source": [
        "import pickle\n",
        "# Dump the trained Naive Bayes classifier with Pickle\n",
        "LR_pkl_filename = 'LogisticRegression.pkl'\n",
        "# Open the file to save as pkl file\n",
        "LR_Model_pkl = open(DT_pkl_filename, 'wb')\n",
        "pickle.dump(LogReg, LR_Model_pkl)\n",
        "# Close the pickle instances\n",
        "LR_Model_pkl.close()"
      ],
      "metadata": {
        "id": "14SGUvmcAfNF"
      },
      "execution_count": 28,
      "outputs": []
    },
    {
      "cell_type": "markdown",
      "source": [
        "# Random Forest Classifier"
      ],
      "metadata": {
        "id": "k_Fj3NK1a6aj"
      }
    },
    {
      "cell_type": "code",
      "source": [
        "from sklearn.ensemble import RandomForestClassifier\n",
        "\n",
        "RF = RandomForestClassifier(n_estimators=20, random_state=0)\n",
        "RF.fit(Xtrain,Ytrain)\n",
        "\n",
        "predicted_values = RF.predict(Xtest)\n",
        "\n",
        "x = metrics.accuracy_score(Ytest, predicted_values)\n",
        "accuracy.append(x)\n",
        "model.append('RF')\n",
        "print(\"RF's Accuracy is: \", x)\n",
        "\n",
        "print(classification_report(Ytest,predicted_values))"
      ],
      "metadata": {
        "colab": {
          "base_uri": "https://localhost:8080/"
        },
        "id": "fF2O7atZAfXO",
        "outputId": "d25c77b1-f97b-4e73-dcd3-403a64df1469"
      },
      "execution_count": 29,
      "outputs": [
        {
          "output_type": "stream",
          "name": "stdout",
          "text": [
            "RF's Accuracy is:  1.0\n",
            "              precision    recall  f1-score   support\n",
            "\n",
            "       apple       1.00      1.00      1.00        18\n",
            "      banana       1.00      1.00      1.00        17\n",
            "   blackgram       1.00      1.00      1.00        17\n",
            "    chickpea       1.00      1.00      1.00        18\n",
            "     coconut       1.00      1.00      1.00        15\n",
            "      coffee       1.00      1.00      1.00        24\n",
            "      cotton       1.00      1.00      1.00        24\n",
            "      grapes       1.00      1.00      1.00        14\n",
            "        jute       1.00      1.00      1.00        19\n",
            " kidneybeans       1.00      1.00      1.00        19\n",
            "      lentil       1.00      1.00      1.00        16\n",
            "       maize       1.00      1.00      1.00        11\n",
            "       mango       1.00      1.00      1.00        15\n",
            "   mothbeans       1.00      1.00      1.00        21\n",
            "    mungbean       1.00      1.00      1.00        20\n",
            "   muskmelon       1.00      1.00      1.00        19\n",
            "      orange       1.00      1.00      1.00        23\n",
            "      papaya       1.00      1.00      1.00        15\n",
            "  pigeonpeas       1.00      1.00      1.00        13\n",
            " pomegranate       1.00      1.00      1.00        18\n",
            "        rice       1.00      1.00      1.00        21\n",
            "  watermelon       1.00      1.00      1.00        19\n",
            "\n",
            "    accuracy                           1.00       396\n",
            "   macro avg       1.00      1.00      1.00       396\n",
            "weighted avg       1.00      1.00      1.00       396\n",
            "\n"
          ]
        }
      ]
    },
    {
      "cell_type": "code",
      "source": [
        "# Cross validation score (Random Forest)\n",
        "score = cross_val_score(RF, input_data, target_data,cv=5)\n",
        "score"
      ],
      "metadata": {
        "colab": {
          "base_uri": "https://localhost:8080/"
        },
        "id": "jecVDgKQAfg-",
        "outputId": "d9d7028e-2c1d-4c07-a328-5cdb19761c81"
      },
      "execution_count": 30,
      "outputs": [
        {
          "output_type": "execute_result",
          "data": {
            "text/plain": [
              "array([0.99494949, 0.99242424, 0.99494949, 0.99747475, 0.99494949])"
            ]
          },
          "metadata": {},
          "execution_count": 30
        }
      ]
    },
    {
      "cell_type": "code",
      "source": [
        "import pickle\n",
        "# Dump the trained Naive Bayes classifier with Pickle\n",
        "RF_pkl_filename = 'RandomForest.pkl'\n",
        "# Open the file to save as pkl file\n",
        "RF_Model_pkl = open(RF_pkl_filename, 'wb')\n",
        "pickle.dump(RF, RF_Model_pkl)\n",
        "# Close the pickle instances\n",
        "RF_Model_pkl.close()"
      ],
      "metadata": {
        "id": "Y7RgpGUPAfrQ"
      },
      "execution_count": 31,
      "outputs": []
    },
    {
      "cell_type": "markdown",
      "source": [
        "# XG Booster"
      ],
      "metadata": {
        "id": "buf-3AIIa-cD"
      }
    },
    {
      "cell_type": "code",
      "source": [
        "import xgboost as xgb\n",
        "XB = xgb.XGBClassifier()\n",
        "XB.fit(Xtrain,Ytrain)\n",
        "\n",
        "predicted_values = XB.predict(Xtest)\n",
        "\n",
        "x = metrics.accuracy_score(Ytest, predicted_values)\n",
        "accuracy.append(x)\n",
        "model.append('XGBoost')\n",
        "print(\"XGBoost's Accuracy is: \", x)\n",
        "\n",
        "print(classification_report(Ytest,predicted_values))"
      ],
      "metadata": {
        "colab": {
          "base_uri": "https://localhost:8080/"
        },
        "id": "2k-AzclcCrcW",
        "outputId": "6b818f37-0939-4907-e66e-f693e3fd871c"
      },
      "execution_count": 32,
      "outputs": [
        {
          "output_type": "stream",
          "name": "stdout",
          "text": [
            "XGBoost's Accuracy is:  0.9949494949494949\n",
            "              precision    recall  f1-score   support\n",
            "\n",
            "       apple       1.00      1.00      1.00        18\n",
            "      banana       1.00      1.00      1.00        17\n",
            "   blackgram       1.00      1.00      1.00        17\n",
            "    chickpea       1.00      1.00      1.00        18\n",
            "     coconut       1.00      1.00      1.00        15\n",
            "      coffee       1.00      0.96      0.98        24\n",
            "      cotton       1.00      1.00      1.00        24\n",
            "      grapes       1.00      1.00      1.00        14\n",
            "        jute       0.95      0.95      0.95        19\n",
            " kidneybeans       1.00      1.00      1.00        19\n",
            "      lentil       1.00      1.00      1.00        16\n",
            "       maize       1.00      1.00      1.00        11\n",
            "       mango       1.00      1.00      1.00        15\n",
            "   mothbeans       1.00      1.00      1.00        21\n",
            "    mungbean       1.00      1.00      1.00        20\n",
            "   muskmelon       1.00      1.00      1.00        19\n",
            "      orange       1.00      1.00      1.00        23\n",
            "      papaya       1.00      1.00      1.00        15\n",
            "  pigeonpeas       1.00      1.00      1.00        13\n",
            " pomegranate       1.00      1.00      1.00        18\n",
            "        rice       0.95      1.00      0.98        21\n",
            "  watermelon       1.00      1.00      1.00        19\n",
            "\n",
            "    accuracy                           0.99       396\n",
            "   macro avg       1.00      1.00      1.00       396\n",
            "weighted avg       1.00      0.99      0.99       396\n",
            "\n"
          ]
        }
      ]
    },
    {
      "cell_type": "code",
      "source": [
        "# Cross validation score (XGBoost)\n",
        "score = cross_val_score(XB, input_data, target_data, cv=5)\n",
        "score"
      ],
      "metadata": {
        "colab": {
          "base_uri": "https://localhost:8080/"
        },
        "id": "32zhfSqeCruN",
        "outputId": "2d65d10c-cf49-446f-b3b2-6f09bd3f508d"
      },
      "execution_count": 33,
      "outputs": [
        {
          "output_type": "execute_result",
          "data": {
            "text/plain": [
              "array([0.99494949, 0.99494949, 0.99494949, 0.98989899, 0.98989899])"
            ]
          },
          "metadata": {},
          "execution_count": 33
        }
      ]
    },
    {
      "cell_type": "code",
      "source": [
        "import pickle\n",
        "# Dump the trained Naive Bayes classifier with Pickle\n",
        "XB_pkl_filename = 'XGBoost.pkl'\n",
        "# Open the file to save as pkl file\n",
        "XB_Model_pkl = open(XB_pkl_filename, 'wb')\n",
        "pickle.dump(XB, XB_Model_pkl)\n",
        "# Close the pickle instances\n",
        "XB_Model_pkl.close()"
      ],
      "metadata": {
        "id": "qpfjp9hAAf0d"
      },
      "execution_count": 34,
      "outputs": []
    },
    {
      "cell_type": "code",
      "source": [
        "import matplotlib.pyplot as plt"
      ],
      "metadata": {
        "id": "gsCmuCRF0sYd"
      },
      "execution_count": 35,
      "outputs": []
    },
    {
      "cell_type": "code",
      "source": [
        "plt.figure(figsize=[10,5],dpi = 100)\n",
        "plt.title('Accuracy Comparison')\n",
        "plt.xlabel('Accuracy')\n",
        "plt.ylabel('Algorithm')\n",
        "sns.barplot(x = accuracy, y = model,palette='dark')"
      ],
      "metadata": {
        "colab": {
          "base_uri": "https://localhost:8080/",
          "height": 491
        },
        "id": "RtBVhyxHAf-W",
        "outputId": "4f699f90-988b-44de-dfe0-78d2985a908f"
      },
      "execution_count": 36,
      "outputs": [
        {
          "output_type": "execute_result",
          "data": {
            "text/plain": [
              "<matplotlib.axes._subplots.AxesSubplot at 0x7f5bf9974cd0>"
            ]
          },
          "metadata": {},
          "execution_count": 36
        },
        {
          "output_type": "display_data",
          "data": {
            "text/plain": [
              "<Figure size 1000x500 with 1 Axes>"
            ],
            "image/png": "[encoded data removed]"
          },
          "metadata": {
            "needs_background": "light"
          }
        }
      ]
    },
    {
      "cell_type": "code",
      "source": [
        "accuracy"
      ],
      "metadata": {
        "colab": {
          "base_uri": "https://localhost:8080/"
        },
        "id": "iIOM68-x6eY3",
        "outputId": "f3b16639-3889-4efe-8920-3df7cfea9dc9"
      },
      "execution_count": 37,
      "outputs": [
        {
          "output_type": "execute_result",
          "data": {
            "text/plain": [
              "[0.9393939393939394,\n",
              " 0.9974747474747475,\n",
              " 0.09343434343434344,\n",
              " 0.9671717171717171,\n",
              " 1.0,\n",
              " 0.9949494949494949]"
            ]
          },
          "metadata": {},
          "execution_count": 37
        }
      ]
    },
    {
      "cell_type": "code",
      "source": [
        "final_predict = pd.read_csv('/content/drive/MyDrive/CSV file for Corp Recommendation Model Creation/final predicting data.csv', index_col=False )"
      ],
      "metadata": {
        "id": "ubv_niKjNCMi"
      },
      "execution_count": 38,
      "outputs": []
    },
    {
      "cell_type": "code",
      "source": [
        "yfinal_pred = final_predict['label']\n",
        "Xfinal_pred = final_predict.drop('label', axis=1, inplace=False)\n",
        "print(yfinal_pred)"
      ],
      "metadata": {
        "colab": {
          "base_uri": "https://localhost:8080/"
        },
        "id": "tGWvYbSlN3Wo",
        "outputId": "52ea2beb-e466-47e6-d85d-6c07c3ccd409"
      },
      "execution_count": 39,
      "outputs": [
        {
          "output_type": "stream",
          "name": "stdout",
          "text": [
            "0           apple\n",
            "1           apple\n",
            "2           apple\n",
            "3           apple\n",
            "4           apple\n",
            "          ...    \n",
            "215    watermelon\n",
            "216    watermelon\n",
            "217    watermelon\n",
            "218    watermelon\n",
            "219    watermelon\n",
            "Name: label, Length: 220, dtype: object\n"
          ]
        }
      ]
    },
    {
      "cell_type": "code",
      "source": [
        "predictions = NaiveBayes.predict(Xfinal_pred)"
      ],
      "metadata": {
        "id": "UA6ed6b8NoKS"
      },
      "execution_count": 40,
      "outputs": []
    },
    {
      "cell_type": "code",
      "source": [
        "indexes = []\n",
        "i = 0\n",
        "\n",
        "for real, predi in zip(yfinal_pred, predictions):\n",
        "  if real == predi :\n",
        "    indexes.append(i)\n",
        "  else:\n",
        "    print(real)\n",
        "  i += 1\n",
        "\n",
        "final_predict.head()\n"
      ],
      "metadata": {
        "colab": {
          "base_uri": "https://localhost:8080/",
          "height": 224
        },
        "id": "TjZqzWzmRYhq",
        "outputId": "52dc0264-a695-40d1-9ab8-da5bfe91ab63"
      },
      "execution_count": 48,
      "outputs": [
        {
          "output_type": "stream",
          "name": "stdout",
          "text": [
            "rice\n"
          ]
        },
        {
          "output_type": "execute_result",
          "data": {
            "text/plain": [
              "    N    P    K  temperature   humidity        ph    rainfall  label\n",
              "0  38  135  203    23.761218  93.661643  5.965551  100.825956  apple\n",
              "1  31  137  196    22.144641  93.825674  6.400321  120.631078  apple\n",
              "2  26  122  202    22.445170  94.737635  5.617227  107.184327  apple\n",
              "3  35  131  203    22.427761  93.917224  5.893491  102.723074  apple\n",
              "4  35  128  205    21.072734  93.565860  6.041054  107.873701  apple"
            ],
            "text/html": [
              "\n",
              "  <div id=\"df-4a53a91e-141f-41b5-8513-0233cbba3f62\">\n",
              "    <div class=\"colab-df-container\">\n",
              "      <div>\n",
              "<style scoped>\n",
              "    .dataframe tbody tr th:only-of-type {\n",
              "        vertical-align: middle;\n",
              "    }\n",
              "\n",
              "    .dataframe tbody tr th {\n",
              "        vertical-align: top;\n",
              "    }\n",
              "\n",
              "    .dataframe thead th {\n",
              "        text-align: right;\n",
              "    }\n",
              "</style>\n",
              "<table border=\"1\" class=\"dataframe\">\n",
              "  <thead>\n",
              "    <tr style=\"text-align: right;\">\n",
              "      <th></th>\n",
              "      <th>N</th>\n",
              "      <th>P</th>\n",
              "      <th>K</th>\n",
              "      <th>temperature</th>\n",
              "      <th>humidity</th>\n",
              "      <th>ph</th>\n",
              "      <th>rainfall</th>\n",
              "      <th>label</th>\n",
              "    </tr>\n",
              "  </thead>\n",
              "  <tbody>\n",
              "    <tr>\n",
              "      <th>0</th>\n",
              "      <td>38</td>\n",
              "      <td>135</td>\n",
              "      <td>203</td>\n",
              "      <td>23.761218</td>\n",
              "      <td>93.661643</td>\n",
              "      <td>5.965551</td>\n",
              "      <td>100.825956</td>\n",
              "      <td>apple</td>\n",
              "    </tr>\n",
              "    <tr>\n",
              "      <th>1</th>\n",
              "      <td>31</td>\n",
              "      <td>137</td>\n",
              "      <td>196</td>\n",
              "      <td>22.144641</td>\n",
              "      <td>93.825674</td>\n",
              "      <td>6.400321</td>\n",
              "      <td>120.631078</td>\n",
              "      <td>apple</td>\n",
              "    </tr>\n",
              "    <tr>\n",
              "      <th>2</th>\n",
              "      <td>26</td>\n",
              "      <td>122</td>\n",
              "      <td>202</td>\n",
              "      <td>22.445170</td>\n",
              "      <td>94.737635</td>\n",
              "      <td>5.617227</td>\n",
              "      <td>107.184327</td>\n",
              "      <td>apple</td>\n",
              "    </tr>\n",
              "    <tr>\n",
              "      <th>3</th>\n",
              "      <td>35</td>\n",
              "      <td>131</td>\n",
              "      <td>203</td>\n",
              "      <td>22.427761</td>\n",
              "      <td>93.917224</td>\n",
              "      <td>5.893491</td>\n",
              "      <td>102.723074</td>\n",
              "      <td>apple</td>\n",
              "    </tr>\n",
              "    <tr>\n",
              "      <th>4</th>\n",
              "      <td>35</td>\n",
              "      <td>128</td>\n",
              "      <td>205</td>\n",
              "      <td>21.072734</td>\n",
              "      <td>93.565860</td>\n",
              "      <td>6.041054</td>\n",
              "      <td>107.873701</td>\n",
              "      <td>apple</td>\n",
              "    </tr>\n",
              "  </tbody>\n",
              "</table>\n",
              "</div>\n",
              "      <button class=\"colab-df-convert\" onclick=\"convertToInteractive('df-4a53a91e-141f-41b5-8513-0233cbba3f62')\"\n",
              "              title=\"Convert this dataframe to an interactive table.\"\n",
              "              style=\"display:none;\">\n",
              "        \n",
              "  <svg xmlns=\"http://www.w3.org/2000/svg\" height=\"24px\"viewBox=\"0 0 24 24\"\n",
              "       width=\"24px\">\n",
              "    <path d=\"M0 0h24v24H0V0z\" fill=\"none\"/>\n",
              "    <path d=\"M18.56 5.44l.94 2.06.94-2.06 2.06-.94-2.06-.94-.94-2.06-.94 2.06-2.06.94zm-11 1L8.5 8.5l.94-2.06 2.06-.94-2.06-.94L8.5 2.5l-.94 2.06-2.06.94zm10 10l.94 2.06.94-2.06 2.06-.94-2.06-.94-.94-2.06-.94 2.06-2.06.94z\"/><path d=\"M17.41 7.96l-1.37-1.37c-.4-.4-.92-.59-1.43-.59-.52 0-1.04.2-1.43.59L10.3 9.45l-7.72 7.72c-.78.78-.78 2.05 0 2.83L4 21.41c.39.39.9.59 1.41.59.51 0 1.02-.2 1.41-.59l7.78-7.78 2.81-2.81c.8-.78.8-2.07 0-2.86zM5.41 20L4 18.59l7.72-7.72 1.47 1.35L5.41 20z\"/>\n",
              "  </svg>\n",
              "      </button>\n",
              "      \n",
              "  <style>\n",
              "    .colab-df-container {\n",
              "      display:flex;\n",
              "      flex-wrap:wrap;\n",
              "      gap: 12px;\n",
              "    }\n",
              "\n",
              "    .colab-df-convert {\n",
              "      background-color: #E8F0FE;\n",
              "      border: none;\n",
              "      border-radius: 50%;\n",
              "      cursor: pointer;\n",
              "      display: none;\n",
              "      fill: #1967D2;\n",
              "      height: 32px;\n",
              "      padding: 0 0 0 0;\n",
              "      width: 32px;\n",
              "    }\n",
              "\n",
              "    .colab-df-convert:hover {\n",
              "      background-color: #E2EBFA;\n",
              "      box-shadow: 0px 1px 2px rgba(60, 64, 67, 0.3), 0px 1px 3px 1px rgba(60, 64, 67, 0.15);\n",
              "      fill: #174EA6;\n",
              "    }\n",
              "\n",
              "    [theme=dark] .colab-df-convert {\n",
              "      background-color: #3B4455;\n",
              "      fill: #D2E3FC;\n",
              "    }\n",
              "\n",
              "    [theme=dark] .colab-df-convert:hover {\n",
              "      background-color: #434B5C;\n",
              "      box-shadow: 0px 1px 3px 1px rgba(0, 0, 0, 0.15);\n",
              "      filter: drop-shadow(0px 1px 2px rgba(0, 0, 0, 0.3));\n",
              "      fill: #FFFFFF;\n",
              "    }\n",
              "  </style>\n",
              "\n",
              "      <script>\n",
              "        const buttonEl =\n",
              "          document.querySelector('#df-4a53a91e-141f-41b5-8513-0233cbba3f62 button.colab-df-convert');\n",
              "        buttonEl.style.display =\n",
              "          google.colab.kernel.accessAllowed ? 'block' : 'none';\n",
              "\n",
              "        async function convertToInteractive(key) {\n",
              "          const element = document.querySelector('#df-4a53a91e-141f-41b5-8513-0233cbba3f62');\n",
              "          const dataTable =\n",
              "            await google.colab.kernel.invokeFunction('convertToInteractive',\n",
              "                                                     [key], {});\n",
              "          if (!dataTable) return;\n",
              "\n",
              "          const docLinkHtml = 'Like what you see? Visit the ' +\n",
              "            '<a target=\"_blank\" href=https://colab.research.google.com/notebooks/data_table.ipynb>data table notebook</a>'\n",
              "            + ' to learn more about interactive tables.';\n",
              "          element.innerHTML = '';\n",
              "          dataTable['output_type'] = 'display_data';\n",
              "          await google.colab.output.renderOutput(dataTable, element);\n",
              "          const docLink = document.createElement('div');\n",
              "          docLink.innerHTML = docLinkHtml;\n",
              "          element.appendChild(docLink);\n",
              "        }\n",
              "      </script>\n",
              "    </div>\n",
              "  </div>\n",
              "  "
            ]
          },
          "metadata": {},
          "execution_count": 48
        }
      ]
    },
    {
      "cell_type": "code",
      "source": [
        "final_predict.shape"
      ],
      "metadata": {
        "colab": {
          "base_uri": "https://localhost:8080/"
        },
        "id": "2EThJA05TmDr",
        "outputId": "5d2ef033-aaf8-4e5b-b2b5-b8251a1d1fa4"
      },
      "execution_count": 49,
      "outputs": [
        {
          "output_type": "execute_result",
          "data": {
            "text/plain": [
              "(220, 8)"
            ]
          },
          "metadata": {},
          "execution_count": 49
        }
      ]
    },
    {
      "cell_type": "code",
      "source": [
        "len(indexes)"
      ],
      "metadata": {
        "colab": {
          "base_uri": "https://localhost:8080/"
        },
        "id": "mTZ2V6X2Bx7y",
        "outputId": "408974f7-5b19-469c-d146-34b4f0c08897"
      },
      "execution_count": 50,
      "outputs": [
        {
          "output_type": "execute_result",
          "data": {
            "text/plain": [
              "219"
            ]
          },
          "metadata": {},
          "execution_count": 50
        }
      ]
    },
    {
      "cell_type": "code",
      "source": [
        "final_predict.iloc[indexes]"
      ],
      "metadata": {
        "colab": {
          "base_uri": "https://localhost:8080/",
          "height": 424
        },
        "id": "hl9m7bHUCATP",
        "outputId": "59ec83d5-f507-4821-f3e0-f816de1a1300"
      },
      "execution_count": 52,
      "outputs": [
        {
          "output_type": "execute_result",
          "data": {
            "text/plain": [
              "       N    P    K  temperature   humidity        ph    rainfall       label\n",
              "0     38  135  203    23.761218  93.661643  5.965551  100.825956       apple\n",
              "1     31  137  196    22.144641  93.825674  6.400321  120.631078       apple\n",
              "2     26  122  202    22.445170  94.737635  5.617227  107.184327       apple\n",
              "3     35  131  203    22.427761  93.917224  5.893491  102.723074       apple\n",
              "4     35  128  205    21.072734  93.565860  6.041054  107.873701       apple\n",
              "..   ...  ...  ...          ...        ...       ...         ...         ...\n",
              "215   85   27   45    26.071376  88.728566  6.467096   57.796528  watermelon\n",
              "216   88    5   47    25.864755  86.674680  6.662245   41.165548  watermelon\n",
              "217  120    7   47    24.247825  83.036879  6.653868   54.765762  watermelon\n",
              "218  105   14   50    26.214884  87.688398  6.419052   59.655908  watermelon\n",
              "219  120   24   47    26.986037  89.413849  6.260839   58.548767  watermelon\n",
              "\n",
              "[219 rows x 8 columns]"
            ],
            "text/html": [
              "\n",
              "  <div id=\"df-b66da094-01f1-4967-bfd5-dc98f66ac69b\">\n",
              "    <div class=\"colab-df-container\">\n",
              "      <div>\n",
              "<style scoped>\n",
              "    .dataframe tbody tr th:only-of-type {\n",
              "        vertical-align: middle;\n",
              "    }\n",
              "\n",
              "    .dataframe tbody tr th {\n",
              "        vertical-align: top;\n",
              "    }\n",
              "\n",
              "    .dataframe thead th {\n",
              "        text-align: right;\n",
              "    }\n",
              "</style>\n",
              "<table border=\"1\" class=\"dataframe\">\n",
              "  <thead>\n",
              "    <tr style=\"text-align: right;\">\n",
              "      <th></th>\n",
              "      <th>N</th>\n",
              "      <th>P</th>\n",
              "      <th>K</th>\n",
              "      <th>temperature</th>\n",
              "      <th>humidity</th>\n",
              "      <th>ph</th>\n",
              "      <th>rainfall</th>\n",
              "      <th>label</th>\n",
              "    </tr>\n",
              "  </thead>\n",
              "  <tbody>\n",
              "    <tr>\n",
              "      <th>0</th>\n",
              "      <td>38</td>\n",
              "      <td>135</td>\n",
              "      <td>203</td>\n",
              "      <td>23.761218</td>\n",
              "      <td>93.661643</td>\n",
              "      <td>5.965551</td>\n",
              "      <td>100.825956</td>\n",
              "      <td>apple</td>\n",
              "    </tr>\n",
              "    <tr>\n",
              "      <th>1</th>\n",
              "      <td>31</td>\n",
              "      <td>137</td>\n",
              "      <td>196</td>\n",
              "      <td>22.144641</td>\n",
              "      <td>93.825674</td>\n",
              "      <td>6.400321</td>\n",
              "      <td>120.631078</td>\n",
              "      <td>apple</td>\n",
              "    </tr>\n",
              "    <tr>\n",
              "      <th>2</th>\n",
              "      <td>26</td>\n",
              "      <td>122</td>\n",
              "      <td>202</td>\n",
              "      <td>22.445170</td>\n",
              "      <td>94.737635</td>\n",
              "      <td>5.617227</td>\n",
              "      <td>107.184327</td>\n",
              "      <td>apple</td>\n",
              "    </tr>\n",
              "    <tr>\n",
              "      <th>3</th>\n",
              "      <td>35</td>\n",
              "      <td>131</td>\n",
              "      <td>203</td>\n",
              "      <td>22.427761</td>\n",
              "      <td>93.917224</td>\n",
              "      <td>5.893491</td>\n",
              "      <td>102.723074</td>\n",
              "      <td>apple</td>\n",
              "    </tr>\n",
              "    <tr>\n",
              "      <th>4</th>\n",
              "      <td>35</td>\n",
              "      <td>128</td>\n",
              "      <td>205</td>\n",
              "      <td>21.072734</td>\n",
              "      <td>93.565860</td>\n",
              "      <td>6.041054</td>\n",
              "      <td>107.873701</td>\n",
              "      <td>apple</td>\n",
              "    </tr>\n",
              "    <tr>\n",
              "      <th>...</th>\n",
              "      <td>...</td>\n",
              "      <td>...</td>\n",
              "      <td>...</td>\n",
              "      <td>...</td>\n",
              "      <td>...</td>\n",
              "      <td>...</td>\n",
              "      <td>...</td>\n",
              "      <td>...</td>\n",
              "    </tr>\n",
              "    <tr>\n",
              "      <th>215</th>\n",
              "      <td>85</td>\n",
              "      <td>27</td>\n",
              "      <td>45</td>\n",
              "      <td>26.071376</td>\n",
              "      <td>88.728566</td>\n",
              "      <td>6.467096</td>\n",
              "      <td>57.796528</td>\n",
              "      <td>watermelon</td>\n",
              "    </tr>\n",
              "    <tr>\n",
              "      <th>216</th>\n",
              "      <td>88</td>\n",
              "      <td>5</td>\n",
              "      <td>47</td>\n",
              "      <td>25.864755</td>\n",
              "      <td>86.674680</td>\n",
              "      <td>6.662245</td>\n",
              "      <td>41.165548</td>\n",
              "      <td>watermelon</td>\n",
              "    </tr>\n",
              "    <tr>\n",
              "      <th>217</th>\n",
              "      <td>120</td>\n",
              "      <td>7</td>\n",
              "      <td>47</td>\n",
              "      <td>24.247825</td>\n",
              "      <td>83.036879</td>\n",
              "      <td>6.653868</td>\n",
              "      <td>54.765762</td>\n",
              "      <td>watermelon</td>\n",
              "    </tr>\n",
              "    <tr>\n",
              "      <th>218</th>\n",
              "      <td>105</td>\n",
              "      <td>14</td>\n",
              "      <td>50</td>\n",
              "      <td>26.214884</td>\n",
              "      <td>87.688398</td>\n",
              "      <td>6.419052</td>\n",
              "      <td>59.655908</td>\n",
              "      <td>watermelon</td>\n",
              "    </tr>\n",
              "    <tr>\n",
              "      <th>219</th>\n",
              "      <td>120</td>\n",
              "      <td>24</td>\n",
              "      <td>47</td>\n",
              "      <td>26.986037</td>\n",
              "      <td>89.413849</td>\n",
              "      <td>6.260839</td>\n",
              "      <td>58.548767</td>\n",
              "      <td>watermelon</td>\n",
              "    </tr>\n",
              "  </tbody>\n",
              "</table>\n",
              "<p>219 rows × 8 columns</p>\n",
              "</div>\n",
              "      <button class=\"colab-df-convert\" onclick=\"convertToInteractive('df-b66da094-01f1-4967-bfd5-dc98f66ac69b')\"\n",
              "              title=\"Convert this dataframe to an interactive table.\"\n",
              "              style=\"display:none;\">\n",
              "        \n",
              "  <svg xmlns=\"http://www.w3.org/2000/svg\" height=\"24px\"viewBox=\"0 0 24 24\"\n",
              "       width=\"24px\">\n",
              "    <path d=\"M0 0h24v24H0V0z\" fill=\"none\"/>\n",
              "    <path d=\"M18.56 5.44l.94 2.06.94-2.06 2.06-.94-2.06-.94-.94-2.06-.94 2.06-2.06.94zm-11 1L8.5 8.5l.94-2.06 2.06-.94-2.06-.94L8.5 2.5l-.94 2.06-2.06.94zm10 10l.94 2.06.94-2.06 2.06-.94-2.06-.94-.94-2.06-.94 2.06-2.06.94z\"/><path d=\"M17.41 7.96l-1.37-1.37c-.4-.4-.92-.59-1.43-.59-.52 0-1.04.2-1.43.59L10.3 9.45l-7.72 7.72c-.78.78-.78 2.05 0 2.83L4 21.41c.39.39.9.59 1.41.59.51 0 1.02-.2 1.41-.59l7.78-7.78 2.81-2.81c.8-.78.8-2.07 0-2.86zM5.41 20L4 18.59l7.72-7.72 1.47 1.35L5.41 20z\"/>\n",
              "  </svg>\n",
              "      </button>\n",
              "      \n",
              "  <style>\n",
              "    .colab-df-container {\n",
              "      display:flex;\n",
              "      flex-wrap:wrap;\n",
              "      gap: 12px;\n",
              "    }\n",
              "\n",
              "    .colab-df-convert {\n",
              "      background-color: #E8F0FE;\n",
              "      border: none;\n",
              "      border-radius: 50%;\n",
              "      cursor: pointer;\n",
              "      display: none;\n",
              "      fill: #1967D2;\n",
              "      height: 32px;\n",
              "      padding: 0 0 0 0;\n",
              "      width: 32px;\n",
              "    }\n",
              "\n",
              "    .colab-df-convert:hover {\n",
              "      background-color: #E2EBFA;\n",
              "      box-shadow: 0px 1px 2px rgba(60, 64, 67, 0.3), 0px 1px 3px 1px rgba(60, 64, 67, 0.15);\n",
              "      fill: #174EA6;\n",
              "    }\n",
              "\n",
              "    [theme=dark] .colab-df-convert {\n",
              "      background-color: #3B4455;\n",
              "      fill: #D2E3FC;\n",
              "    }\n",
              "\n",
              "    [theme=dark] .colab-df-convert:hover {\n",
              "      background-color: #434B5C;\n",
              "      box-shadow: 0px 1px 3px 1px rgba(0, 0, 0, 0.15);\n",
              "      filter: drop-shadow(0px 1px 2px rgba(0, 0, 0, 0.3));\n",
              "      fill: #FFFFFF;\n",
              "    }\n",
              "  </style>\n",
              "\n",
              "      <script>\n",
              "        const buttonEl =\n",
              "          document.querySelector('#df-b66da094-01f1-4967-bfd5-dc98f66ac69b button.colab-df-convert');\n",
              "        buttonEl.style.display =\n",
              "          google.colab.kernel.accessAllowed ? 'block' : 'none';\n",
              "\n",
              "        async function convertToInteractive(key) {\n",
              "          const element = document.querySelector('#df-b66da094-01f1-4967-bfd5-dc98f66ac69b');\n",
              "          const dataTable =\n",
              "            await google.colab.kernel.invokeFunction('convertToInteractive',\n",
              "                                                     [key], {});\n",
              "          if (!dataTable) return;\n",
              "\n",
              "          const docLinkHtml = 'Like what you see? Visit the ' +\n",
              "            '<a target=\"_blank\" href=https://colab.research.google.com/notebooks/data_table.ipynb>data table notebook</a>'\n",
              "            + ' to learn more about interactive tables.';\n",
              "          element.innerHTML = '';\n",
              "          dataTable['output_type'] = 'display_data';\n",
              "          await google.colab.output.renderOutput(dataTable, element);\n",
              "          const docLink = document.createElement('div');\n",
              "          docLink.innerHTML = docLinkHtml;\n",
              "          element.appendChild(docLink);\n",
              "        }\n",
              "      </script>\n",
              "    </div>\n",
              "  </div>\n",
              "  "
            ]
          },
          "metadata": {},
          "execution_count": 52
        }
      ]
    },
    {
      "cell_type": "code",
      "source": [
        "final_predict.to_csv('Final Data csv beforre max and min.csv', index=False)"
      ],
      "metadata": {
        "id": "2K85lK7jCR3V"
      },
      "execution_count": 54,
      "outputs": []
    },
    {
      "cell_type": "code",
      "source": [
        ""
      ],
      "metadata": {
        "id": "cVtv2cKjDtIX"
      },
      "execution_count": null,
      "outputs": []
    }
  ]
}